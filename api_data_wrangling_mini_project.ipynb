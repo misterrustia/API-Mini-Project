{
 "cells": [
  {
   "cell_type": "markdown",
   "metadata": {},
   "source": [
    "This exercise will require you to pull some data from the Qunadl API. Qaundl is currently the most widely used aggregator of financial market data."
   ]
  },
  {
   "cell_type": "code",
   "execution_count": 1,
   "metadata": {},
   "outputs": [],
   "source": [
    "import datetime"
   ]
  },
  {
   "cell_type": "code",
   "execution_count": 2,
   "metadata": {},
   "outputs": [],
   "source": [
    "import pandas as pd\n",
    "import matplotlib.pyplot"
   ]
  },
  {
   "cell_type": "markdown",
   "metadata": {},
   "source": []
  },
  {
   "cell_type": "markdown",
   "metadata": {},
   "source": [
    "As a first step, you will need to register a free account on the http://www.quandl.com website."
   ]
  },
  {
   "cell_type": "markdown",
   "metadata": {},
   "source": [
    "After you register, you will be provided with a unique API key, that you should store:"
   ]
  },
  {
   "cell_type": "code",
   "execution_count": 1,
   "metadata": {
    "jupyter": {
     "outputs_hidden": true
    }
   },
   "outputs": [],
   "source": [
    "# Store the API key as a string - according to PEP8, constants are always named in all upper case\n",
    "API_KEY = ''"
   ]
  },
  {
   "cell_type": "markdown",
   "metadata": {},
   "source": [
    "Qaundl has a large number of data sources, but, unfortunately, most of them require a Premium subscription. Still, there are also a good number of free datasets."
   ]
  },
  {
   "cell_type": "markdown",
   "metadata": {},
   "source": [
    "For this mini project, we will focus on equities data from the Frankfurt Stock Exhange (FSE), which is available for free. We'll try and analyze the stock prices of a company called Carl Zeiss Meditec, which manufactures tools for eye examinations, as well as medical lasers for laser eye surgery: https://www.zeiss.com/meditec/int/home.html. The company is listed under the stock ticker AFX_X."
   ]
  },
  {
   "cell_type": "markdown",
   "metadata": {},
   "source": [
    "You can find the detailed Quandl API instructions here: https://docs.quandl.com/docs/time-series"
   ]
  },
  {
   "cell_type": "markdown",
   "metadata": {},
   "source": [
    "While there is a dedicated Python package for connecting to the Quandl API, we would prefer that you use the *requests* package, which can be easily downloaded using *pip* or *conda*. You can find the documentation for the package here: http://docs.python-requests.org/en/master/ "
   ]
  },
  {
   "cell_type": "markdown",
   "metadata": {},
   "source": [
    "Finally, apart from the *requests* package, you are encouraged to not use any third party Python packages, such as *pandas*, and instead focus on what's available in the Python Standard Library (the *collections* module might come in handy: https://pymotw.com/3/collections/ ).\n",
    "Also, since you won't have access to DataFrames, you are encouraged to us Python's native data structures - preferably dictionaries, though some questions can also be answered using lists.\n",
    "You can read more on these data structures here: https://docs.python.org/3/tutorial/datastructures.html"
   ]
  },
  {
   "cell_type": "markdown",
   "metadata": {},
   "source": [
    "Keep in mind that the JSON responses you will be getting from the API map almost one-to-one to Python's dictionaries. Unfortunately, they can be very nested, so make sure you read up on indexing dictionaries in the documentation provided above."
   ]
  },
  {
   "cell_type": "code",
   "execution_count": 2,
   "metadata": {
    "jupyter": {
     "outputs_hidden": true
    }
   },
   "outputs": [],
   "source": [
    "# First, import the relevant modules\n",
    "import requests\n"
   ]
  },
  {
   "cell_type": "markdown",
   "metadata": {},
   "source": [
    "Note: API's can change a bit with each version, for this exercise it is reccomended to use the \"V3\" quandl api at `https://www.quandl.com/api/v3/`"
   ]
  },
  {
   "cell_type": "code",
   "execution_count": 25,
   "metadata": {
    "jupyter": {
     "outputs_hidden": true
    }
   },
   "outputs": [
    {
     "name": "stdout",
     "output_type": "stream",
     "text": [
      "200\n"
     ]
    }
   ],
   "source": [
    "# Now, call the Quandl API and pull out a small sample of the data (only one day) to get a glimpse\n",
    "# into the JSON structure that will be returned\n",
    "curl = \"https://www.quandl.com/api/v3/datasets/WIKI/FB/data.json?\"\n",
    "\n",
    "params = dict( api_key = '',start_date= '2018-03-27',end_date=\"2018-03-27\")\n",
    "r = requests.get(curl,params=params)\n",
    "print(r.status_code)\n",
    "json = r.json()\n"
   ]
  },
  {
   "cell_type": "code",
   "execution_count": null,
   "metadata": {
    "collapsed": true,
    "jupyter": {
     "outputs_hidden": true
    }
   },
   "outputs": [],
   "source": [
    "# Inspect the JSON structure of the object you created, and take note of how nested it is,\n",
    "# as well as the overall structure\n",
    "# in the inital dict there is a column names list and a data list that  could be zipped togeather"
   ]
  },
  {
   "cell_type": "code",
   "execution_count": 26,
   "metadata": {},
   "outputs": [
    {
     "name": "stdout",
     "output_type": "stream",
     "text": [
      "{'limit': None, 'transform': None, 'column_index': None, 'column_names': ['Date', 'Open', 'High', 'Low', 'Close', 'Volume', 'Ex-Dividend', 'Split Ratio', 'Adj. Open', 'Adj. High', 'Adj. Low', 'Adj. Close', 'Adj. Volume'], 'start_date': '2018-03-27', 'end_date': '2018-03-27', 'frequency': 'daily', 'data': [['2018-03-27', 156.31, 162.85, 150.75, 152.19, 76787884.0, 0.0, 1.0, 156.31, 162.85, 150.75, 152.19, 76787884.0]], 'collapse': None, 'order': None}\n"
     ]
    }
   ],
   "source": [
    " data = json.get('dataset_data')\n",
    "print(data)"
   ]
  },
  {
   "cell_type": "code",
   "execution_count": 27,
   "metadata": {},
   "outputs": [
    {
     "data": {
      "text/plain": [
       "{'Date': '2018-03-27',\n",
       " 'Open': 156.31,\n",
       " 'High': 162.85,\n",
       " 'Low': 150.75,\n",
       " 'Close': 152.19,\n",
       " 'Volume': 76787884.0,\n",
       " 'Ex-Dividend': 0.0,\n",
       " 'Split Ratio': 1.0,\n",
       " 'Adj. Open': 156.31,\n",
       " 'Adj. High': 162.85,\n",
       " 'Adj. Low': 150.75,\n",
       " 'Adj. Close': 152.19,\n",
       " 'Adj. Volume': 76787884.0}"
      ]
     },
     "execution_count": 27,
     "metadata": {},
     "output_type": "execute_result"
    }
   ],
   "source": [
    "columns = data.get('column_names')\n",
    "values = data.get('data')[0]\n",
    "\n",
    "together = dict(zip(columns,values))\n",
    "together"
   ]
  },
  {
   "cell_type": "markdown",
   "metadata": {},
   "source": [
    "These are your tasks for this mini project:\n",
    "\n",
    "1. Collect data from the Franfurt Stock Exchange, for the ticker AFX_X, for the whole year 2017 (keep in mind that the date format is YYYY-MM-DD).\n",
    "2. Convert the returned JSON object into a Python dictionary.\n",
    "3. Calculate what the highest and lowest opening prices were for the stock in this period.\n",
    "4. What was the largest change in any one day (based on High and Low price)?\n",
    "5. What was the largest change between any two days (based on Closing Price)?\n",
    "6. What was the average daily trading volume during this year?\n",
    "7. (Optional) What was the median trading volume during this year. (Note: you may need to implement your own function for calculating the median.)"
   ]
  },
  {
   "cell_type": "code",
   "execution_count": 72,
   "metadata": {
    "jupyter": {
     "outputs_hidden": true
    }
   },
   "outputs": [
    {
     "name": "stdout",
     "output_type": "stream",
     "text": [
      "200\n"
     ]
    }
   ],
   "source": [
    "curl = \"https://www.quandl.com/api/v3/datasets/WIKI/FB/data.json?\"\n",
    "\n",
    "#curl = \"https://www.quandl.com/api/v3/datasets/FRED/GDP.csv?collapse=annual&rows=6&order=asc&column_index=1&api_key=pk4GgeGfHoj6xQPwwsdg\"\n",
    "\n",
    "params = dict( api_key = '', start_date= '2017-01-01',end_date=\"2017-12-31\")\n",
    "r = requests.get(curl,params=params)\n",
    "print(r.status_code)\n",
    "json = r.json()"
   ]
  },
  {
   "cell_type": "code",
   "execution_count": 29,
   "metadata": {},
   "outputs": [],
   "source": [
    "# get dicts from json needed for calculations\n",
    "\n",
    "data = json.get('dataset_data')\n",
    "columns = data.get('column_names')\n",
    "days = data.get('data')\n",
    "\n",
    "\n"
   ]
  },
  {
   "cell_type": "code",
   "execution_count": 30,
   "metadata": {},
   "outputs": [],
   "source": [
    "# create date list for use later\n",
    "dates = [day[0] for day in days]\n"
   ]
  },
  {
   "cell_type": "code",
   "execution_count": 31,
   "metadata": {},
   "outputs": [
    {
     "name": "stdout",
     "output_type": "stream",
     "text": [
      "average volume :  16468073.856\n",
      "min open : (116.03, '2017-01-03') max open : (183.51, '2017-11-28')\n",
      "min change : (0.52, '2017-03-16')  max change : (8.98, '2017-06-09')\n"
     ]
    }
   ],
   "source": [
    "# for day in d\n",
    "\n",
    "# year = dict(zip(day,columns) for day in days)\n",
    "# year\n",
    "opening_prices = []\n",
    "price_changes = []\n",
    "volumes = 0 \n",
    "for day in days:\n",
    "    \n",
    "    # CREATE dict of column name and values for that day to be able to use .get( ) for values \n",
    "    info = dict(zip(columns,day))\n",
    "    date = info.get('Date')\n",
    "    \n",
    "    #to get highest and lowest opening price create list and use min and max \n",
    "    \n",
    "    open_p = (info.get('Open'),date)\n",
    "    opening_prices.append(open_p)\n",
    "    \n",
    "   # What was the largest change in any one day (based on High and Low price)?\n",
    "\n",
    "    high_p = info.get('High') \n",
    "    low_p = info.get('Low')\n",
    "    delta = abs(high_p - low_p)\n",
    "    delta = (round(delta,2), date)\n",
    "    price_changes.append(delta)\n",
    "    \n",
    "    ## What was the average daily trading volume during this year?\n",
    "\n",
    "    \n",
    "    volumes += info.get('Volume')\n",
    "    \n",
    "avg_vol =volumes/len(days)\n",
    "print(\"average volume : \" , avg_vol)\n",
    "# print(opening_prices)\n",
    "print(\"min open :\", min(opening_prices), \"max open :\",max(opening_prices))\n",
    "print(\"min change :\",min(price_changes),\" max change :\", max(price_changes))"
   ]
  },
  {
   "cell_type": "code",
   "execution_count": 71,
   "metadata": {},
   "outputs": [
    {
     "name": "stdout",
     "output_type": "stream",
     "text": [
      "the max change between two days closing prices were : 7.67  which were between  2017-09-22  and  2017-09-25\n"
     ]
    }
   ],
   "source": [
    "changes = []\n",
    "all_days_list = []\n",
    "for day in days:\n",
    "    \n",
    "    info = dict(zip(columns,day))\n",
    "\n",
    "    all_days_list.append(info)\n",
    "    \n",
    "for n, day in enumerate(all_days_list):\n",
    "    \n",
    "    \n",
    "    if day.get('Date') == '2017-01-03':\n",
    "        continue\n",
    "        \n",
    "\n",
    "    else:   \n",
    "        closing = day.get('Close')\n",
    "        yesterday = all_days_list[n+1]\n",
    "\n",
    "        dates = (day.get('Date'),yesterday.get('Date'))\n",
    "        delta = round(abs(day.get('Close')-yesterday.get('Close')),2)\n",
    "        change = (delta,dates)\n",
    "\n",
    "        changes.append(change)\n",
    "\n",
    "\n",
    "maxes = max(changes)\n",
    "print(\"the max change between two days closing prices were :\",maxes[0], \" which were between \",maxes[1][1], \" and \", maxes[1][0])\n"
   ]
  },
  {
   "cell_type": "markdown",
   "metadata": {},
   "source": [
    "(Optional) What was the median trading volume during this year. (Note: you may need to implement your own function for calculating the median.)"
   ]
  },
  {
   "cell_type": "code",
   "execution_count": 21,
   "metadata": {},
   "outputs": [
    {
     "name": "stdout",
     "output_type": "stream",
     "text": [
      "The median volumne in the year is : 14557895\n"
     ]
    }
   ],
   "source": [
    "volumes = []\n",
    "for day in all_days_list:\n",
    "    v = day.get('Volume')\n",
    "    \n",
    "    volumes.append(v)\n",
    "    \n",
    "vol = sorted(volumes)\n",
    "# print(len(vol))\n",
    "# print(int(len(vol)/2))\n",
    "median = vol[int((len(vol)/2))]\n",
    "print('The median volumne in the year is :',int(median))"
   ]
  },
  {
   "cell_type": "code",
   "execution_count": 105,
   "metadata": {},
   "outputs": [],
   "source": []
  },
  {
   "cell_type": "code",
   "execution_count": null,
   "metadata": {},
   "outputs": [],
   "source": []
  }
 ],
 "metadata": {
  "kernelspec": {
   "display_name": "Python 3 (ipykernel)",
   "language": "python",
   "name": "python3"
  },
  "language_info": {
   "codemirror_mode": {
    "name": "ipython",
    "version": 3
   },
   "file_extension": ".py",
   "mimetype": "text/x-python",
   "name": "python",
   "nbconvert_exporter": "python",
   "pygments_lexer": "ipython3",
   "version": "3.9.0"
  }
 },
 "nbformat": 4,
 "nbformat_minor": 4
}
